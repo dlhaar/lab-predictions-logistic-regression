{
 "cells": [
  {
   "cell_type": "markdown",
   "id": "f14ec56d-ddf9-459f-8512-47ed1fa31a33",
   "metadata": {},
   "source": [
    "# Lab | Logistic Regression Predictions\n",
    "\n",
    "In this lab, you will be using the Sakila database of movie rentals.\n",
    "\n",
    "In order to optimize our inventory, we would like to know which films will be rented. We are asked to create a model to predict it. So we use the information we have from May 2005 to create the model."
   ]
  },
  {
   "cell_type": "markdown",
   "id": "a827fa8d-6857-43e6-b23f-6016b6ad206b",
   "metadata": {},
   "source": [
    "### Getting data from sakila database"
   ]
  },
  {
   "cell_type": "code",
   "execution_count": 1,
   "id": "fdd9d117-6bfa-49da-ba8f-c928836da439",
   "metadata": {},
   "outputs": [],
   "source": [
    "import matplotlib.pyplot as plt\n",
    "import numpy as np\n",
    "import pandas as pd\n",
    "import seaborn as sns"
   ]
  },
  {
   "cell_type": "code",
   "execution_count": 2,
   "id": "b4676463-6159-40a8-bdba-b74ce13c4c38",
   "metadata": {},
   "outputs": [
    {
     "name": "stdin",
     "output_type": "stream",
     "text": [
      " ········\n"
     ]
    }
   ],
   "source": [
    "# prep: import modules and get pwd\n",
    "import pymysql\n",
    "from sqlalchemy import create_engine\n",
    "\n",
    "import getpass  # To get the password without showing the input\n",
    "password = getpass.getpass()"
   ]
  },
  {
   "cell_type": "code",
   "execution_count": 3,
   "id": "7e8b1df5-d1d4-4e90-9c4f-c8ebe362755f",
   "metadata": {},
   "outputs": [
    {
     "data": {
      "text/html": [
       "<div>\n",
       "<style scoped>\n",
       "    .dataframe tbody tr th:only-of-type {\n",
       "        vertical-align: middle;\n",
       "    }\n",
       "\n",
       "    .dataframe tbody tr th {\n",
       "        vertical-align: top;\n",
       "    }\n",
       "\n",
       "    .dataframe thead th {\n",
       "        text-align: right;\n",
       "    }\n",
       "</style>\n",
       "<table border=\"1\" class=\"dataframe\">\n",
       "  <thead>\n",
       "    <tr style=\"text-align: right;\">\n",
       "      <th></th>\n",
       "      <th>title</th>\n",
       "      <th>language</th>\n",
       "      <th>rental_duration</th>\n",
       "      <th>rental_rate</th>\n",
       "      <th>rating</th>\n",
       "      <th>film_length_minutes</th>\n",
       "    </tr>\n",
       "  </thead>\n",
       "  <tbody>\n",
       "    <tr>\n",
       "      <th>0</th>\n",
       "      <td>ACADEMY DINOSAUR</td>\n",
       "      <td>English</td>\n",
       "      <td>6</td>\n",
       "      <td>0.99</td>\n",
       "      <td>PG</td>\n",
       "      <td>86</td>\n",
       "    </tr>\n",
       "    <tr>\n",
       "      <th>1</th>\n",
       "      <td>ACE GOLDFINGER</td>\n",
       "      <td>English</td>\n",
       "      <td>3</td>\n",
       "      <td>4.99</td>\n",
       "      <td>G</td>\n",
       "      <td>48</td>\n",
       "    </tr>\n",
       "    <tr>\n",
       "      <th>2</th>\n",
       "      <td>ADAPTATION HOLES</td>\n",
       "      <td>English</td>\n",
       "      <td>7</td>\n",
       "      <td>2.99</td>\n",
       "      <td>NC-17</td>\n",
       "      <td>50</td>\n",
       "    </tr>\n",
       "    <tr>\n",
       "      <th>3</th>\n",
       "      <td>AFFAIR PREJUDICE</td>\n",
       "      <td>English</td>\n",
       "      <td>5</td>\n",
       "      <td>2.99</td>\n",
       "      <td>G</td>\n",
       "      <td>117</td>\n",
       "    </tr>\n",
       "    <tr>\n",
       "      <th>4</th>\n",
       "      <td>AFRICAN EGG</td>\n",
       "      <td>English</td>\n",
       "      <td>6</td>\n",
       "      <td>2.99</td>\n",
       "      <td>G</td>\n",
       "      <td>130</td>\n",
       "    </tr>\n",
       "  </tbody>\n",
       "</table>\n",
       "</div>"
      ],
      "text/plain": [
       "              title language  rental_duration  rental_rate rating  \\\n",
       "0  ACADEMY DINOSAUR  English                6         0.99     PG   \n",
       "1    ACE GOLDFINGER  English                3         4.99      G   \n",
       "2  ADAPTATION HOLES  English                7         2.99  NC-17   \n",
       "3  AFFAIR PREJUDICE  English                5         2.99      G   \n",
       "4       AFRICAN EGG  English                6         2.99      G   \n",
       "\n",
       "   film_length_minutes  \n",
       "0                   86  \n",
       "1                   48  \n",
       "2                   50  \n",
       "3                  117  \n",
       "4                  130  "
      ]
     },
     "execution_count": 3,
     "metadata": {},
     "output_type": "execute_result"
    }
   ],
   "source": [
    "# get the data\n",
    "connection_string = 'mysql+pymysql://root:' + password + '@localhost/sakila'\n",
    "engine = create_engine(connection_string)\n",
    "query = \"\"\"\n",
    "    SELECT title\n",
    "        , l.name as language\n",
    "        , rental_duration\n",
    "        , rental_rate\n",
    "        , rating\n",
    "        , length as film_length_minutes\n",
    "    FROM film\n",
    "    JOIN language l on film.language_id = l.language_id;\n",
    "\"\"\"\n",
    "film = pd.read_sql_query(query, engine)\n",
    "film.head()"
   ]
  },
  {
   "cell_type": "code",
   "execution_count": 4,
   "id": "ee71c28a-7a5f-46ca-b89d-4fa19f6d9f70",
   "metadata": {},
   "outputs": [
    {
     "data": {
      "text/html": [
       "<div>\n",
       "<style scoped>\n",
       "    .dataframe tbody tr th:only-of-type {\n",
       "        vertical-align: middle;\n",
       "    }\n",
       "\n",
       "    .dataframe tbody tr th {\n",
       "        vertical-align: top;\n",
       "    }\n",
       "\n",
       "    .dataframe thead th {\n",
       "        text-align: right;\n",
       "    }\n",
       "</style>\n",
       "<table border=\"1\" class=\"dataframe\">\n",
       "  <thead>\n",
       "    <tr style=\"text-align: right;\">\n",
       "      <th></th>\n",
       "      <th>title</th>\n",
       "      <th>rented_in_may</th>\n",
       "    </tr>\n",
       "  </thead>\n",
       "  <tbody>\n",
       "    <tr>\n",
       "      <th>0</th>\n",
       "      <td>ACADEMY DINOSAUR</td>\n",
       "      <td>1</td>\n",
       "    </tr>\n",
       "    <tr>\n",
       "      <th>1</th>\n",
       "      <td>ACE GOLDFINGER</td>\n",
       "      <td>0</td>\n",
       "    </tr>\n",
       "    <tr>\n",
       "      <th>2</th>\n",
       "      <td>ADAPTATION HOLES</td>\n",
       "      <td>1</td>\n",
       "    </tr>\n",
       "    <tr>\n",
       "      <th>3</th>\n",
       "      <td>AFFAIR PREJUDICE</td>\n",
       "      <td>1</td>\n",
       "    </tr>\n",
       "    <tr>\n",
       "      <th>4</th>\n",
       "      <td>AFRICAN EGG</td>\n",
       "      <td>1</td>\n",
       "    </tr>\n",
       "  </tbody>\n",
       "</table>\n",
       "</div>"
      ],
      "text/plain": [
       "              title  rented_in_may\n",
       "0  ACADEMY DINOSAUR              1\n",
       "1    ACE GOLDFINGER              0\n",
       "2  ADAPTATION HOLES              1\n",
       "3  AFFAIR PREJUDICE              1\n",
       "4       AFRICAN EGG              1"
      ]
     },
     "execution_count": 4,
     "metadata": {},
     "output_type": "execute_result"
    }
   ],
   "source": [
    "#get unique film titles and whether it was rented in may\n",
    "\n",
    "query2 = \"\"\"\n",
    "with all_results as(\n",
    "    SELECT f.title\n",
    "        , CASE\n",
    "            WHEN i.inventory_id in (SELECT i.inventory_id\n",
    "                                    FROM inventory i\n",
    "                                    JOIN rental r ON i.inventory_id = r.inventory_id\n",
    "                                    WHERE MONTH(r.rental_date) = 05)\n",
    "            THEN True\n",
    "            ELSE False\n",
    "            END as rented_in_may\n",
    "    FROM film f\n",
    "    LEFT JOIN inventory i on f.film_id = i.film_id\n",
    ")\n",
    ", rental_totals AS (\n",
    "    SELECT\n",
    "        title \n",
    "        , sum(rented_in_may) as totals\n",
    "    FROM all_results\n",
    "    GROUP BY 1\n",
    " )\n",
    "SELECT\n",
    "\ttitle\n",
    "    , CASE WHEN totals>0 THEN 1\n",
    "\t\tELSE 0\n",
    "\t\tEND as rented_in_may\n",
    "FROM rental_totals\n",
    "\n",
    "\"\"\"\n",
    "rentals = pd.read_sql_query(query2, engine)\n",
    "rentals.head()"
   ]
  },
  {
   "cell_type": "code",
   "execution_count": 5,
   "id": "14807a14-92e1-491a-81f5-cdc2b66e1008",
   "metadata": {},
   "outputs": [
    {
     "data": {
      "text/plain": [
       "(1000, 6)"
      ]
     },
     "execution_count": 5,
     "metadata": {},
     "output_type": "execute_result"
    }
   ],
   "source": [
    "film.shape"
   ]
  },
  {
   "cell_type": "code",
   "execution_count": 6,
   "id": "00329e04-26be-41f0-bf30-074ee340878f",
   "metadata": {},
   "outputs": [
    {
     "data": {
      "text/plain": [
       "(1000, 2)"
      ]
     },
     "execution_count": 6,
     "metadata": {},
     "output_type": "execute_result"
    }
   ],
   "source": [
    "rentals.shape"
   ]
  },
  {
   "cell_type": "code",
   "execution_count": 7,
   "id": "cc6d5ac7-7e6d-44ec-8b85-fe37b5ea9169",
   "metadata": {},
   "outputs": [
    {
     "data": {
      "text/plain": [
       "(1000, 7)"
      ]
     },
     "execution_count": 7,
     "metadata": {},
     "output_type": "execute_result"
    }
   ],
   "source": [
    "#merging dataframes\n",
    "data = film.merge(rentals, on= 'title', how='inner')\n",
    "data.shape"
   ]
  },
  {
   "cell_type": "code",
   "execution_count": 8,
   "id": "e6f1e288-0a25-4c62-baa7-1693ba3c8b94",
   "metadata": {},
   "outputs": [
    {
     "name": "stdout",
     "output_type": "stream",
     "text": [
      "<class 'pandas.core.frame.DataFrame'>\n",
      "RangeIndex: 1000 entries, 0 to 999\n",
      "Data columns (total 7 columns):\n",
      " #   Column               Non-Null Count  Dtype  \n",
      "---  ------               --------------  -----  \n",
      " 0   title                1000 non-null   object \n",
      " 1   language             1000 non-null   object \n",
      " 2   rental_duration      1000 non-null   int64  \n",
      " 3   rental_rate          1000 non-null   float64\n",
      " 4   rating               1000 non-null   object \n",
      " 5   film_length_minutes  1000 non-null   int64  \n",
      " 6   rented_in_may        1000 non-null   int64  \n",
      "dtypes: float64(1), int64(3), object(3)\n",
      "memory usage: 54.8+ KB\n"
     ]
    }
   ],
   "source": [
    "data.info()"
   ]
  },
  {
   "cell_type": "markdown",
   "id": "32d39cee-5c64-4c43-920a-8ed549cadd68",
   "metadata": {},
   "source": [
    "### A closer look at the features\n",
    "\n",
    "- `title`: the title of the film. This column will be dropped.\n",
    "- `language`: the language of the film. Possible values are English, Italian, Japanese, Mandarin, French, German. This colulmn is categorical nominal.\n",
    "- `rental_duration`: for how long the film can be rented. Options are 3, 4, 5, 6, 7. This is likely in days. It will be considered categorical nominal.\n",
    "- `rental_rate`: how much the film is rented for. Options are 0.99, 2.99, 4.99. It will be considered categorical nominal.\n",
    "- `rating`: the film rating. Options are G, PG, PG-13, R, NC-17. This column will be considered categorical nominal.\n",
    "- `film_length_minutes`: the film's length in minutes. This is an integer.\n",
    "- `rented_in_may`: this column indicates a 1 if the movie was rented in may and a 0 if it was not. This is a categorical column."
   ]
  },
  {
   "cell_type": "code",
   "execution_count": 9,
   "id": "bd1d8350-7054-4bad-b0a4-585a30cdfea8",
   "metadata": {},
   "outputs": [
    {
     "name": "stdout",
     "output_type": "stream",
     "text": [
      "Index(['language', 'rental_duration', 'rental_rate', 'rating',\n",
      "       'film_length_minutes', 'rented_in_may'],\n",
      "      dtype='object')\n"
     ]
    }
   ],
   "source": [
    "#dropping title\n",
    "data2 = data.loc[:, data.columns != \"title\"]\n",
    "print(data2.columns)"
   ]
  },
  {
   "cell_type": "code",
   "execution_count": 10,
   "id": "5e49c7dd-8446-4446-8f9d-afe7a50e5cd6",
   "metadata": {},
   "outputs": [],
   "source": [
    "to_string = ['rental_duration', 'rental_rate']\n",
    "\n",
    "for col in to_string:\n",
    "    data2.loc[:,col]=data2.loc[:,col].apply(str)"
   ]
  },
  {
   "cell_type": "code",
   "execution_count": 11,
   "id": "10c9065b-b78c-4851-bb72-3c260d16c74c",
   "metadata": {},
   "outputs": [
    {
     "name": "stdout",
     "output_type": "stream",
     "text": [
      "<class 'pandas.core.frame.DataFrame'>\n",
      "RangeIndex: 1000 entries, 0 to 999\n",
      "Data columns (total 6 columns):\n",
      " #   Column               Non-Null Count  Dtype \n",
      "---  ------               --------------  ----- \n",
      " 0   language             1000 non-null   object\n",
      " 1   rental_duration      1000 non-null   object\n",
      " 2   rental_rate          1000 non-null   object\n",
      " 3   rating               1000 non-null   object\n",
      " 4   film_length_minutes  1000 non-null   int64 \n",
      " 5   rented_in_may        1000 non-null   int64 \n",
      "dtypes: int64(2), object(4)\n",
      "memory usage: 47.0+ KB\n"
     ]
    }
   ],
   "source": [
    "data2.info()"
   ]
  },
  {
   "cell_type": "markdown",
   "id": "283ca80b-1a1d-45e7-bd23-7ad62b8d14fd",
   "metadata": {},
   "source": [
    "### Looking at distributions of features"
   ]
  },
  {
   "cell_type": "code",
   "execution_count": 12,
   "id": "8b7f1ad4-ad17-407b-a4ca-6fb25d945497",
   "metadata": {},
   "outputs": [],
   "source": [
    "def plot_distributions(df):\n",
    "    numerical_columns = df.select_dtypes(np.number)\n",
    "    for col in numerical_columns:\n",
    "        sns.displot(df[col])\n",
    "        plt.show()"
   ]
  },
  {
   "cell_type": "code",
   "execution_count": 13,
   "id": "466e216c-6a2f-40f3-8561-5d68efbbfb0f",
   "metadata": {},
   "outputs": [
    {
     "data": {
      "image/png": "[encoded data removed]",
      "text/plain": [
       "<Figure size 500x500 with 1 Axes>"
      ]
     },
     "metadata": {},
     "output_type": "display_data"
    },
    {
     "data": {
      "image/png": "[encoded data removed]",
      "text/plain": [
       "<Figure size 500x500 with 1 Axes>"
      ]
     },
     "metadata": {},
     "output_type": "display_data"
    }
   ],
   "source": [
    "plot_distributions(data2)"
   ]
  },
  {
   "cell_type": "code",
   "execution_count": 14,
   "id": "34ed4cd1-24ab-417f-ad95-37996c93f864",
   "metadata": {},
   "outputs": [],
   "source": [
    "def plot_countplot(df):\n",
    "    categorical_columns = df.select_dtypes('object')\n",
    "    for col in categorical_columns:\n",
    "        sns.countplot(x=df[col])\n",
    "        plt.show()"
   ]
  },
  {
   "cell_type": "code",
   "execution_count": 15,
   "id": "2e37555a-6024-4b8c-91fc-60c17cdda2b2",
   "metadata": {},
   "outputs": [
    {
     "data": {
      "image/png": "[encoded data removed]",
      "text/plain": [
       "<Figure size 640x480 with 1 Axes>"
      ]
     },
     "metadata": {},
     "output_type": "display_data"
    },
    {
     "data": {
      "image/png": "[encoded data removed]",
      "text/plain": [
       "<Figure size 640x480 with 1 Axes>"
      ]
     },
     "metadata": {},
     "output_type": "display_data"
    },
    {
     "data": {
      "image/png": "[encoded data removed]",
      "text/plain": [
       "<Figure size 640x480 with 1 Axes>"
      ]
     },
     "metadata": {},
     "output_type": "display_data"
    },
    {
     "data": {
      "image/png": "[encoded data removed]",
      "text/plain": [
       "<Figure size 640x480 with 1 Axes>"
      ]
     },
     "metadata": {},
     "output_type": "display_data"
    }
   ],
   "source": [
    "plot_countplot(data2)"
   ]
  },
  {
   "cell_type": "markdown",
   "id": "bd5c7feb-3f0e-4191-a2a8-469d12437850",
   "metadata": {},
   "source": [
    "We will drop the language column since the language in all movies in the dataset is English. The other features are fairly evenly distributed."
   ]
  },
  {
   "cell_type": "code",
   "execution_count": 16,
   "id": "957b809d-ee90-4813-be8a-9a6a377b704a",
   "metadata": {},
   "outputs": [
    {
     "name": "stdout",
     "output_type": "stream",
     "text": [
      "Index(['rental_duration', 'rental_rate', 'rating', 'film_length_minutes',\n",
      "       'rented_in_may'],\n",
      "      dtype='object')\n"
     ]
    }
   ],
   "source": [
    "data2 = data2.loc[:, data2.columns != \"language\"]\n",
    "print(data2.columns)"
   ]
  },
  {
   "cell_type": "code",
   "execution_count": 17,
   "id": "43d11fe1-e864-4243-bcc4-3929d594f5c9",
   "metadata": {},
   "outputs": [
    {
     "name": "stdout",
     "output_type": "stream",
     "text": [
      "<class 'pandas.core.frame.DataFrame'>\n",
      "RangeIndex: 1000 entries, 0 to 999\n",
      "Data columns (total 5 columns):\n",
      " #   Column               Non-Null Count  Dtype \n",
      "---  ------               --------------  ----- \n",
      " 0   rental_duration      1000 non-null   object\n",
      " 1   rental_rate          1000 non-null   object\n",
      " 2   rating               1000 non-null   object\n",
      " 3   film_length_minutes  1000 non-null   int64 \n",
      " 4   rented_in_may        1000 non-null   int64 \n",
      "dtypes: int64(2), object(3)\n",
      "memory usage: 39.2+ KB\n"
     ]
    }
   ],
   "source": [
    "data2.info()"
   ]
  },
  {
   "cell_type": "markdown",
   "id": "b0346244-fb47-4fde-a9c3-4c8bef5dc3b4",
   "metadata": {},
   "source": [
    "### X,y split"
   ]
  },
  {
   "cell_type": "code",
   "execution_count": 18,
   "id": "d21e2357-e96e-4695-a864-fb21c6dff8f6",
   "metadata": {},
   "outputs": [],
   "source": [
    "y = data2['rented_in_may']\n",
    "X = data2.drop('rented_in_may', axis=1)"
   ]
  },
  {
   "cell_type": "markdown",
   "id": "cfe34c3e-9e81-4360-97d1-dc548fa36e0c",
   "metadata": {},
   "source": [
    "### Train, test split"
   ]
  },
  {
   "cell_type": "code",
   "execution_count": 19,
   "id": "6d6e1684-3e20-4e87-8d95-3e6cc5b72311",
   "metadata": {},
   "outputs": [],
   "source": [
    "from sklearn.model_selection import train_test_split\n",
    "\n",
    "X_train, X_test, y_train, y_test = train_test_split(X, y, test_size=0.3, random_state=22)"
   ]
  },
  {
   "cell_type": "markdown",
   "id": "5c6aa256-ecc9-4f19-9ed9-1ec74420fef0",
   "metadata": {},
   "source": [
    "### Scaling numerical column\n",
    "\n",
    "`film_length_min` is the only numerical column. It will be scaled using MinMaxScaler."
   ]
  },
  {
   "cell_type": "code",
   "execution_count": 20,
   "id": "fd7aa880-160b-4290-9482-3f0f2e820fca",
   "metadata": {},
   "outputs": [],
   "source": [
    "from sklearn.preprocessing import MinMaxScaler\n",
    "\n",
    "#get num values from X_train and X_test\n",
    "\n",
    "X_train_num = X_train.select_dtypes(include = np.number)\n",
    "X_test_num = X_test.select_dtypes(include = np.number)\n",
    "\n",
    "#Scaling data\n",
    "transformer = MinMaxScaler().fit(X_train_num)\n",
    "\n",
    "X_train_num_normal = transformer.transform(X_train_num)\n",
    "X_test_num_normal = transformer.transform(X_test_num)\n",
    "\n",
    "X_train_num_norm_df = pd.DataFrame(X_train_num_normal, columns=X_train_num.columns, index=X_train_num.index)\n",
    "X_test_num_norm_df = pd.DataFrame(X_test_num_normal, columns = X_test_num.columns, index=X_test_num.index)\n"
   ]
  },
  {
   "cell_type": "code",
   "execution_count": 21,
   "id": "df480035-a1dd-449b-8d44-f1e00af73efb",
   "metadata": {},
   "outputs": [
    {
     "data": {
      "text/html": [
       "<div>\n",
       "<style scoped>\n",
       "    .dataframe tbody tr th:only-of-type {\n",
       "        vertical-align: middle;\n",
       "    }\n",
       "\n",
       "    .dataframe tbody tr th {\n",
       "        vertical-align: top;\n",
       "    }\n",
       "\n",
       "    .dataframe thead th {\n",
       "        text-align: right;\n",
       "    }\n",
       "</style>\n",
       "<table border=\"1\" class=\"dataframe\">\n",
       "  <thead>\n",
       "    <tr style=\"text-align: right;\">\n",
       "      <th></th>\n",
       "      <th>film_length_minutes</th>\n",
       "    </tr>\n",
       "  </thead>\n",
       "  <tbody>\n",
       "    <tr>\n",
       "      <th>count</th>\n",
       "      <td>700.000000</td>\n",
       "    </tr>\n",
       "    <tr>\n",
       "      <th>mean</th>\n",
       "      <td>0.495098</td>\n",
       "    </tr>\n",
       "    <tr>\n",
       "      <th>std</th>\n",
       "      <td>0.284148</td>\n",
       "    </tr>\n",
       "    <tr>\n",
       "      <th>min</th>\n",
       "      <td>0.000000</td>\n",
       "    </tr>\n",
       "    <tr>\n",
       "      <th>25%</th>\n",
       "      <td>0.244604</td>\n",
       "    </tr>\n",
       "    <tr>\n",
       "      <th>50%</th>\n",
       "      <td>0.489209</td>\n",
       "    </tr>\n",
       "    <tr>\n",
       "      <th>75%</th>\n",
       "      <td>0.728417</td>\n",
       "    </tr>\n",
       "    <tr>\n",
       "      <th>max</th>\n",
       "      <td>1.000000</td>\n",
       "    </tr>\n",
       "  </tbody>\n",
       "</table>\n",
       "</div>"
      ],
      "text/plain": [
       "       film_length_minutes\n",
       "count           700.000000\n",
       "mean              0.495098\n",
       "std               0.284148\n",
       "min               0.000000\n",
       "25%               0.244604\n",
       "50%               0.489209\n",
       "75%               0.728417\n",
       "max               1.000000"
      ]
     },
     "execution_count": 21,
     "metadata": {},
     "output_type": "execute_result"
    }
   ],
   "source": [
    "X_train_num_norm_df.describe()"
   ]
  },
  {
   "cell_type": "code",
   "execution_count": 22,
   "id": "735caba4-fc5f-4927-92e6-01ae2c31d3f2",
   "metadata": {},
   "outputs": [
    {
     "data": {
      "text/html": [
       "<div>\n",
       "<style scoped>\n",
       "    .dataframe tbody tr th:only-of-type {\n",
       "        vertical-align: middle;\n",
       "    }\n",
       "\n",
       "    .dataframe tbody tr th {\n",
       "        vertical-align: top;\n",
       "    }\n",
       "\n",
       "    .dataframe thead th {\n",
       "        text-align: right;\n",
       "    }\n",
       "</style>\n",
       "<table border=\"1\" class=\"dataframe\">\n",
       "  <thead>\n",
       "    <tr style=\"text-align: right;\">\n",
       "      <th></th>\n",
       "      <th>film_length_minutes</th>\n",
       "    </tr>\n",
       "  </thead>\n",
       "  <tbody>\n",
       "    <tr>\n",
       "      <th>count</th>\n",
       "      <td>300.000000</td>\n",
       "    </tr>\n",
       "    <tr>\n",
       "      <th>mean</th>\n",
       "      <td>0.505971</td>\n",
       "    </tr>\n",
       "    <tr>\n",
       "      <th>std</th>\n",
       "      <td>0.306232</td>\n",
       "    </tr>\n",
       "    <tr>\n",
       "      <th>min</th>\n",
       "      <td>0.000000</td>\n",
       "    </tr>\n",
       "    <tr>\n",
       "      <th>25%</th>\n",
       "      <td>0.230216</td>\n",
       "    </tr>\n",
       "    <tr>\n",
       "      <th>50%</th>\n",
       "      <td>0.492806</td>\n",
       "    </tr>\n",
       "    <tr>\n",
       "      <th>75%</th>\n",
       "      <td>0.764388</td>\n",
       "    </tr>\n",
       "    <tr>\n",
       "      <th>max</th>\n",
       "      <td>1.000000</td>\n",
       "    </tr>\n",
       "  </tbody>\n",
       "</table>\n",
       "</div>"
      ],
      "text/plain": [
       "       film_length_minutes\n",
       "count           300.000000\n",
       "mean              0.505971\n",
       "std               0.306232\n",
       "min               0.000000\n",
       "25%               0.230216\n",
       "50%               0.492806\n",
       "75%               0.764388\n",
       "max               1.000000"
      ]
     },
     "execution_count": 22,
     "metadata": {},
     "output_type": "execute_result"
    }
   ],
   "source": [
    "X_test_num_norm_df.describe()"
   ]
  },
  {
   "cell_type": "markdown",
   "id": "8a23c6c5-1a5a-4d86-a674-b24cf0026435",
   "metadata": {},
   "source": [
    "### Transforming categorical columns using OneHotEncoder"
   ]
  },
  {
   "cell_type": "code",
   "execution_count": 23,
   "id": "4d493272-0b31-446c-88fd-60c36ffdb2c9",
   "metadata": {},
   "outputs": [],
   "source": [
    "#get categorical columns from X_train and X_test\n",
    "\n",
    "X_train_cat = X_train.select_dtypes('object')\n",
    "X_test_cat = X_test.select_dtypes('object')\n",
    "\n",
    "from sklearn.preprocessing import OneHotEncoder\n",
    "\n",
    "#fit\n",
    "encoder = OneHotEncoder(drop='first')\n",
    "encoder.fit(X_train_cat)\n",
    "\n",
    "#transform\n",
    "X_train_cat_np = encoder.transform(X_train_cat).toarray()\n",
    "X_test_cat_np  = encoder.transform(X_test_cat).toarray()\n",
    "\n",
    "X_train_cat_df = pd.DataFrame(X_train_cat_np, columns=encoder.get_feature_names_out(), index=X_train_cat.index)\n",
    "X_test_cat_df = pd.DataFrame(X_test_cat_np,  columns=encoder.get_feature_names_out(), index=X_test_cat.index) "
   ]
  },
  {
   "cell_type": "code",
   "execution_count": 24,
   "id": "69ba98d7-605c-45d8-895a-6f6fa282b917",
   "metadata": {},
   "outputs": [
    {
     "data": {
      "text/html": [
       "<div>\n",
       "<style scoped>\n",
       "    .dataframe tbody tr th:only-of-type {\n",
       "        vertical-align: middle;\n",
       "    }\n",
       "\n",
       "    .dataframe tbody tr th {\n",
       "        vertical-align: top;\n",
       "    }\n",
       "\n",
       "    .dataframe thead th {\n",
       "        text-align: right;\n",
       "    }\n",
       "</style>\n",
       "<table border=\"1\" class=\"dataframe\">\n",
       "  <thead>\n",
       "    <tr style=\"text-align: right;\">\n",
       "      <th></th>\n",
       "      <th>rental_duration_4</th>\n",
       "      <th>rental_duration_5</th>\n",
       "      <th>rental_duration_6</th>\n",
       "      <th>rental_duration_7</th>\n",
       "      <th>rental_rate_2.99</th>\n",
       "      <th>rental_rate_4.99</th>\n",
       "      <th>rating_NC-17</th>\n",
       "      <th>rating_PG</th>\n",
       "      <th>rating_PG-13</th>\n",
       "      <th>rating_R</th>\n",
       "    </tr>\n",
       "  </thead>\n",
       "  <tbody>\n",
       "    <tr>\n",
       "      <th>796</th>\n",
       "      <td>0.0</td>\n",
       "      <td>0.0</td>\n",
       "      <td>0.0</td>\n",
       "      <td>1.0</td>\n",
       "      <td>0.0</td>\n",
       "      <td>0.0</td>\n",
       "      <td>0.0</td>\n",
       "      <td>0.0</td>\n",
       "      <td>0.0</td>\n",
       "      <td>1.0</td>\n",
       "    </tr>\n",
       "    <tr>\n",
       "      <th>736</th>\n",
       "      <td>1.0</td>\n",
       "      <td>0.0</td>\n",
       "      <td>0.0</td>\n",
       "      <td>0.0</td>\n",
       "      <td>0.0</td>\n",
       "      <td>0.0</td>\n",
       "      <td>0.0</td>\n",
       "      <td>0.0</td>\n",
       "      <td>0.0</td>\n",
       "      <td>0.0</td>\n",
       "    </tr>\n",
       "    <tr>\n",
       "      <th>414</th>\n",
       "      <td>0.0</td>\n",
       "      <td>0.0</td>\n",
       "      <td>0.0</td>\n",
       "      <td>0.0</td>\n",
       "      <td>1.0</td>\n",
       "      <td>0.0</td>\n",
       "      <td>0.0</td>\n",
       "      <td>0.0</td>\n",
       "      <td>0.0</td>\n",
       "      <td>1.0</td>\n",
       "    </tr>\n",
       "    <tr>\n",
       "      <th>525</th>\n",
       "      <td>0.0</td>\n",
       "      <td>0.0</td>\n",
       "      <td>0.0</td>\n",
       "      <td>1.0</td>\n",
       "      <td>1.0</td>\n",
       "      <td>0.0</td>\n",
       "      <td>0.0</td>\n",
       "      <td>0.0</td>\n",
       "      <td>0.0</td>\n",
       "      <td>1.0</td>\n",
       "    </tr>\n",
       "    <tr>\n",
       "      <th>21</th>\n",
       "      <td>0.0</td>\n",
       "      <td>0.0</td>\n",
       "      <td>1.0</td>\n",
       "      <td>0.0</td>\n",
       "      <td>1.0</td>\n",
       "      <td>0.0</td>\n",
       "      <td>0.0</td>\n",
       "      <td>0.0</td>\n",
       "      <td>0.0</td>\n",
       "      <td>0.0</td>\n",
       "    </tr>\n",
       "  </tbody>\n",
       "</table>\n",
       "</div>"
      ],
      "text/plain": [
       "     rental_duration_4  rental_duration_5  rental_duration_6  \\\n",
       "796                0.0                0.0                0.0   \n",
       "736                1.0                0.0                0.0   \n",
       "414                0.0                0.0                0.0   \n",
       "525                0.0                0.0                0.0   \n",
       "21                 0.0                0.0                1.0   \n",
       "\n",
       "     rental_duration_7  rental_rate_2.99  rental_rate_4.99  rating_NC-17  \\\n",
       "796                1.0               0.0               0.0           0.0   \n",
       "736                0.0               0.0               0.0           0.0   \n",
       "414                0.0               1.0               0.0           0.0   \n",
       "525                1.0               1.0               0.0           0.0   \n",
       "21                 0.0               1.0               0.0           0.0   \n",
       "\n",
       "     rating_PG  rating_PG-13  rating_R  \n",
       "796        0.0           0.0       1.0  \n",
       "736        0.0           0.0       0.0  \n",
       "414        0.0           0.0       1.0  \n",
       "525        0.0           0.0       1.0  \n",
       "21         0.0           0.0       0.0  "
      ]
     },
     "execution_count": 24,
     "metadata": {},
     "output_type": "execute_result"
    }
   ],
   "source": [
    "X_train_cat_df.head()"
   ]
  },
  {
   "cell_type": "markdown",
   "id": "824e9317-d2e9-465e-96f7-eb0723f3ee5f",
   "metadata": {},
   "source": [
    "### Merge X_train CAT and NUM sets, X_test CAT and NUM sets"
   ]
  },
  {
   "cell_type": "code",
   "execution_count": 25,
   "id": "7efa9f90-b6ee-4140-a813-81b9cf929d08",
   "metadata": {},
   "outputs": [
    {
     "data": {
      "text/html": [
       "<div>\n",
       "<style scoped>\n",
       "    .dataframe tbody tr th:only-of-type {\n",
       "        vertical-align: middle;\n",
       "    }\n",
       "\n",
       "    .dataframe tbody tr th {\n",
       "        vertical-align: top;\n",
       "    }\n",
       "\n",
       "    .dataframe thead th {\n",
       "        text-align: right;\n",
       "    }\n",
       "</style>\n",
       "<table border=\"1\" class=\"dataframe\">\n",
       "  <thead>\n",
       "    <tr style=\"text-align: right;\">\n",
       "      <th></th>\n",
       "      <th>film_length_minutes</th>\n",
       "      <th>rental_duration_4</th>\n",
       "      <th>rental_duration_5</th>\n",
       "      <th>rental_duration_6</th>\n",
       "      <th>rental_duration_7</th>\n",
       "      <th>rental_rate_2.99</th>\n",
       "      <th>rental_rate_4.99</th>\n",
       "      <th>rating_NC-17</th>\n",
       "      <th>rating_PG</th>\n",
       "      <th>rating_PG-13</th>\n",
       "      <th>rating_R</th>\n",
       "    </tr>\n",
       "  </thead>\n",
       "  <tbody>\n",
       "    <tr>\n",
       "      <th>796</th>\n",
       "      <td>0.151079</td>\n",
       "      <td>0.0</td>\n",
       "      <td>0.0</td>\n",
       "      <td>0.0</td>\n",
       "      <td>1.0</td>\n",
       "      <td>0.0</td>\n",
       "      <td>0.0</td>\n",
       "      <td>0.0</td>\n",
       "      <td>0.0</td>\n",
       "      <td>0.0</td>\n",
       "      <td>1.0</td>\n",
       "    </tr>\n",
       "    <tr>\n",
       "      <th>736</th>\n",
       "      <td>0.402878</td>\n",
       "      <td>1.0</td>\n",
       "      <td>0.0</td>\n",
       "      <td>0.0</td>\n",
       "      <td>0.0</td>\n",
       "      <td>0.0</td>\n",
       "      <td>0.0</td>\n",
       "      <td>0.0</td>\n",
       "      <td>0.0</td>\n",
       "      <td>0.0</td>\n",
       "      <td>0.0</td>\n",
       "    </tr>\n",
       "    <tr>\n",
       "      <th>414</th>\n",
       "      <td>0.273381</td>\n",
       "      <td>0.0</td>\n",
       "      <td>0.0</td>\n",
       "      <td>0.0</td>\n",
       "      <td>0.0</td>\n",
       "      <td>1.0</td>\n",
       "      <td>0.0</td>\n",
       "      <td>0.0</td>\n",
       "      <td>0.0</td>\n",
       "      <td>0.0</td>\n",
       "      <td>1.0</td>\n",
       "    </tr>\n",
       "    <tr>\n",
       "      <th>525</th>\n",
       "      <td>0.532374</td>\n",
       "      <td>0.0</td>\n",
       "      <td>0.0</td>\n",
       "      <td>0.0</td>\n",
       "      <td>1.0</td>\n",
       "      <td>1.0</td>\n",
       "      <td>0.0</td>\n",
       "      <td>0.0</td>\n",
       "      <td>0.0</td>\n",
       "      <td>0.0</td>\n",
       "      <td>1.0</td>\n",
       "    </tr>\n",
       "    <tr>\n",
       "      <th>21</th>\n",
       "      <td>0.280576</td>\n",
       "      <td>0.0</td>\n",
       "      <td>0.0</td>\n",
       "      <td>1.0</td>\n",
       "      <td>0.0</td>\n",
       "      <td>1.0</td>\n",
       "      <td>0.0</td>\n",
       "      <td>0.0</td>\n",
       "      <td>0.0</td>\n",
       "      <td>0.0</td>\n",
       "      <td>0.0</td>\n",
       "    </tr>\n",
       "  </tbody>\n",
       "</table>\n",
       "</div>"
      ],
      "text/plain": [
       "     film_length_minutes  rental_duration_4  rental_duration_5  \\\n",
       "796             0.151079                0.0                0.0   \n",
       "736             0.402878                1.0                0.0   \n",
       "414             0.273381                0.0                0.0   \n",
       "525             0.532374                0.0                0.0   \n",
       "21              0.280576                0.0                0.0   \n",
       "\n",
       "     rental_duration_6  rental_duration_7  rental_rate_2.99  rental_rate_4.99  \\\n",
       "796                0.0                1.0               0.0               0.0   \n",
       "736                0.0                0.0               0.0               0.0   \n",
       "414                0.0                0.0               1.0               0.0   \n",
       "525                0.0                1.0               1.0               0.0   \n",
       "21                 1.0                0.0               1.0               0.0   \n",
       "\n",
       "     rating_NC-17  rating_PG  rating_PG-13  rating_R  \n",
       "796           0.0        0.0           0.0       1.0  \n",
       "736           0.0        0.0           0.0       0.0  \n",
       "414           0.0        0.0           0.0       1.0  \n",
       "525           0.0        0.0           0.0       1.0  \n",
       "21            0.0        0.0           0.0       0.0  "
      ]
     },
     "execution_count": 25,
     "metadata": {},
     "output_type": "execute_result"
    }
   ],
   "source": [
    "X_train_transformed = pd.concat([X_train_num_norm_df, X_train_cat_df], axis=1)\n",
    "X_train_transformed.head()"
   ]
  },
  {
   "cell_type": "code",
   "execution_count": 26,
   "id": "a7aff605-afd7-4257-ad94-791685e921cd",
   "metadata": {},
   "outputs": [
    {
     "data": {
      "text/plain": [
       "(700, 11)"
      ]
     },
     "execution_count": 26,
     "metadata": {},
     "output_type": "execute_result"
    }
   ],
   "source": [
    "X_train_transformed.shape"
   ]
  },
  {
   "cell_type": "code",
   "execution_count": 27,
   "id": "2ede47ee-8d1e-400f-be01-18786e31f88a",
   "metadata": {},
   "outputs": [
    {
     "data": {
      "text/html": [
       "<div>\n",
       "<style scoped>\n",
       "    .dataframe tbody tr th:only-of-type {\n",
       "        vertical-align: middle;\n",
       "    }\n",
       "\n",
       "    .dataframe tbody tr th {\n",
       "        vertical-align: top;\n",
       "    }\n",
       "\n",
       "    .dataframe thead th {\n",
       "        text-align: right;\n",
       "    }\n",
       "</style>\n",
       "<table border=\"1\" class=\"dataframe\">\n",
       "  <thead>\n",
       "    <tr style=\"text-align: right;\">\n",
       "      <th></th>\n",
       "      <th>film_length_minutes</th>\n",
       "      <th>rental_duration_4</th>\n",
       "      <th>rental_duration_5</th>\n",
       "      <th>rental_duration_6</th>\n",
       "      <th>rental_duration_7</th>\n",
       "      <th>rental_rate_2.99</th>\n",
       "      <th>rental_rate_4.99</th>\n",
       "      <th>rating_NC-17</th>\n",
       "      <th>rating_PG</th>\n",
       "      <th>rating_PG-13</th>\n",
       "      <th>rating_R</th>\n",
       "    </tr>\n",
       "  </thead>\n",
       "  <tbody>\n",
       "    <tr>\n",
       "      <th>866</th>\n",
       "      <td>0.086331</td>\n",
       "      <td>0.0</td>\n",
       "      <td>1.0</td>\n",
       "      <td>0.0</td>\n",
       "      <td>0.0</td>\n",
       "      <td>0.0</td>\n",
       "      <td>1.0</td>\n",
       "      <td>0.0</td>\n",
       "      <td>1.0</td>\n",
       "      <td>0.0</td>\n",
       "      <td>0.0</td>\n",
       "    </tr>\n",
       "    <tr>\n",
       "      <th>191</th>\n",
       "      <td>0.028777</td>\n",
       "      <td>1.0</td>\n",
       "      <td>0.0</td>\n",
       "      <td>0.0</td>\n",
       "      <td>0.0</td>\n",
       "      <td>0.0</td>\n",
       "      <td>1.0</td>\n",
       "      <td>0.0</td>\n",
       "      <td>0.0</td>\n",
       "      <td>0.0</td>\n",
       "      <td>1.0</td>\n",
       "    </tr>\n",
       "    <tr>\n",
       "      <th>732</th>\n",
       "      <td>0.741007</td>\n",
       "      <td>1.0</td>\n",
       "      <td>0.0</td>\n",
       "      <td>0.0</td>\n",
       "      <td>0.0</td>\n",
       "      <td>0.0</td>\n",
       "      <td>0.0</td>\n",
       "      <td>0.0</td>\n",
       "      <td>0.0</td>\n",
       "      <td>1.0</td>\n",
       "      <td>0.0</td>\n",
       "    </tr>\n",
       "    <tr>\n",
       "      <th>657</th>\n",
       "      <td>0.539568</td>\n",
       "      <td>0.0</td>\n",
       "      <td>0.0</td>\n",
       "      <td>0.0</td>\n",
       "      <td>1.0</td>\n",
       "      <td>1.0</td>\n",
       "      <td>0.0</td>\n",
       "      <td>0.0</td>\n",
       "      <td>0.0</td>\n",
       "      <td>1.0</td>\n",
       "      <td>0.0</td>\n",
       "    </tr>\n",
       "    <tr>\n",
       "      <th>155</th>\n",
       "      <td>0.848921</td>\n",
       "      <td>0.0</td>\n",
       "      <td>0.0</td>\n",
       "      <td>0.0</td>\n",
       "      <td>0.0</td>\n",
       "      <td>0.0</td>\n",
       "      <td>1.0</td>\n",
       "      <td>0.0</td>\n",
       "      <td>0.0</td>\n",
       "      <td>0.0</td>\n",
       "      <td>0.0</td>\n",
       "    </tr>\n",
       "  </tbody>\n",
       "</table>\n",
       "</div>"
      ],
      "text/plain": [
       "     film_length_minutes  rental_duration_4  rental_duration_5  \\\n",
       "866             0.086331                0.0                1.0   \n",
       "191             0.028777                1.0                0.0   \n",
       "732             0.741007                1.0                0.0   \n",
       "657             0.539568                0.0                0.0   \n",
       "155             0.848921                0.0                0.0   \n",
       "\n",
       "     rental_duration_6  rental_duration_7  rental_rate_2.99  rental_rate_4.99  \\\n",
       "866                0.0                0.0               0.0               1.0   \n",
       "191                0.0                0.0               0.0               1.0   \n",
       "732                0.0                0.0               0.0               0.0   \n",
       "657                0.0                1.0               1.0               0.0   \n",
       "155                0.0                0.0               0.0               1.0   \n",
       "\n",
       "     rating_NC-17  rating_PG  rating_PG-13  rating_R  \n",
       "866           0.0        1.0           0.0       0.0  \n",
       "191           0.0        0.0           0.0       1.0  \n",
       "732           0.0        0.0           1.0       0.0  \n",
       "657           0.0        0.0           1.0       0.0  \n",
       "155           0.0        0.0           0.0       0.0  "
      ]
     },
     "execution_count": 27,
     "metadata": {},
     "output_type": "execute_result"
    }
   ],
   "source": [
    "X_test_transformed = pd.concat([X_test_num_norm_df, X_test_cat_df], axis=1)\n",
    "X_test_transformed.head()"
   ]
  },
  {
   "cell_type": "code",
   "execution_count": 28,
   "id": "959c17e3-7216-431d-a664-ba174392e04e",
   "metadata": {},
   "outputs": [
    {
     "data": {
      "text/plain": [
       "(300, 11)"
      ]
     },
     "execution_count": 28,
     "metadata": {},
     "output_type": "execute_result"
    }
   ],
   "source": [
    "X_test_transformed.shape"
   ]
  },
  {
   "cell_type": "markdown",
   "id": "615922af-3ebf-4fbb-9bdc-416a35734def",
   "metadata": {},
   "source": [
    "### Creating a logistic regression model"
   ]
  },
  {
   "cell_type": "code",
   "execution_count": 29,
   "id": "8d80220f-d0af-4f85-be46-00b3e0990f3d",
   "metadata": {},
   "outputs": [],
   "source": [
    "from sklearn.linear_model import LogisticRegression\n",
    "\n",
    "classification = LogisticRegression(random_state=0, solver='saga',\n",
    "                  multi_class='multinomial')\n",
    "\n",
    "#fit\n",
    "classification.fit(X_train_transformed, y_train)\n",
    "\n",
    "#predict\n",
    "y_train_pred = classification.predict(X_train_transformed)\n",
    "y_test_pred = classification.predict(X_test_transformed)"
   ]
  },
  {
   "cell_type": "markdown",
   "id": "ab4739bc-96da-4957-80a5-b6aa68d03b2d",
   "metadata": {},
   "source": [
    "### Evaluating the model"
   ]
  },
  {
   "cell_type": "code",
   "execution_count": 30,
   "id": "e31c9346-bb90-43b3-96ef-596984d0ac9f",
   "metadata": {},
   "outputs": [
    {
     "data": {
      "text/html": [
       "<div>\n",
       "<style scoped>\n",
       "    .dataframe tbody tr th:only-of-type {\n",
       "        vertical-align: middle;\n",
       "    }\n",
       "\n",
       "    .dataframe tbody tr th {\n",
       "        vertical-align: top;\n",
       "    }\n",
       "\n",
       "    .dataframe thead th {\n",
       "        text-align: right;\n",
       "    }\n",
       "</style>\n",
       "<table border=\"1\" class=\"dataframe\">\n",
       "  <thead>\n",
       "    <tr style=\"text-align: right;\">\n",
       "      <th></th>\n",
       "      <th>Set</th>\n",
       "      <th>Real</th>\n",
       "      <th>Predicted</th>\n",
       "    </tr>\n",
       "  </thead>\n",
       "  <tbody>\n",
       "    <tr>\n",
       "      <th>0</th>\n",
       "      <td>Train</td>\n",
       "      <td>1</td>\n",
       "      <td>1</td>\n",
       "    </tr>\n",
       "    <tr>\n",
       "      <th>1</th>\n",
       "      <td>Train</td>\n",
       "      <td>0</td>\n",
       "      <td>1</td>\n",
       "    </tr>\n",
       "    <tr>\n",
       "      <th>2</th>\n",
       "      <td>Train</td>\n",
       "      <td>1</td>\n",
       "      <td>1</td>\n",
       "    </tr>\n",
       "    <tr>\n",
       "      <th>3</th>\n",
       "      <td>Train</td>\n",
       "      <td>1</td>\n",
       "      <td>1</td>\n",
       "    </tr>\n",
       "    <tr>\n",
       "      <th>4</th>\n",
       "      <td>Train</td>\n",
       "      <td>0</td>\n",
       "      <td>1</td>\n",
       "    </tr>\n",
       "  </tbody>\n",
       "</table>\n",
       "</div>"
      ],
      "text/plain": [
       "     Set  Real  Predicted\n",
       "0  Train     1          1\n",
       "1  Train     0          1\n",
       "2  Train     1          1\n",
       "3  Train     1          1\n",
       "4  Train     0          1"
      ]
     },
     "execution_count": 30,
     "metadata": {},
     "output_type": "execute_result"
    }
   ],
   "source": [
    "results = {\"Set\": [\"Train\"]*X_train_transformed.shape[0] + [\"Test\"]*X_test_transformed.shape[0], \n",
    "           \"Real\": y_train.tolist() + y_test.tolist(),\n",
    "           \"Predicted\": y_train_pred.tolist() + y_test_pred.tolist()}\n",
    "\n",
    "results_df = pd.DataFrame(results)\n",
    "results_df.head()"
   ]
  },
  {
   "cell_type": "code",
   "execution_count": 31,
   "id": "022ca9df-b5ac-4588-9e67-e8d56e0eb812",
   "metadata": {},
   "outputs": [
    {
     "name": "stdout",
     "output_type": "stream",
     "text": [
      "rented_in_may\n",
      "1    200\n",
      "0    100\n",
      "Name: count, dtype: int64\n"
     ]
    }
   ],
   "source": [
    "print(y_test.value_counts())"
   ]
  },
  {
   "cell_type": "code",
   "execution_count": 32,
   "id": "5c03404b-5ed9-4a9d-946a-24549dccc621",
   "metadata": {},
   "outputs": [
    {
     "data": {
      "text/plain": [
       "1    300\n",
       "Name: count, dtype: int64"
      ]
     },
     "execution_count": 32,
     "metadata": {},
     "output_type": "execute_result"
    }
   ],
   "source": [
    "pd.Series(y_test_pred).value_counts()"
   ]
  },
  {
   "cell_type": "markdown",
   "id": "9295a1d7-99cb-4274-9d93-2d3d0a6aa28e",
   "metadata": {},
   "source": [
    "### Accuracy"
   ]
  },
  {
   "cell_type": "code",
   "execution_count": 33,
   "id": "0b195bc2-878a-4740-861b-df3aefbc6329",
   "metadata": {},
   "outputs": [
    {
     "name": "stdout",
     "output_type": "stream",
     "text": [
      "0.6666666666666666\n"
     ]
    },
    {
     "data": {
      "text/plain": [
       "0.6666666666666666"
      ]
     },
     "execution_count": 33,
     "metadata": {},
     "output_type": "execute_result"
    }
   ],
   "source": [
    "from sklearn.metrics import accuracy_score\n",
    "\n",
    "print(accuracy_score(y_test,y_test_pred))\n",
    "classification.score(X_test_transformed, y_test)"
   ]
  },
  {
   "cell_type": "markdown",
   "id": "4de7a131-f14f-498e-b883-a9a417e35668",
   "metadata": {},
   "source": [
    "### Confusion matrix"
   ]
  },
  {
   "cell_type": "code",
   "execution_count": 34,
   "id": "acc18db1-3041-4eb0-b829-aab0e143d7c2",
   "metadata": {},
   "outputs": [
    {
     "data": {
      "text/plain": [
       "array([[  0, 100],\n",
       "       [  0, 200]])"
      ]
     },
     "execution_count": 34,
     "metadata": {},
     "output_type": "execute_result"
    }
   ],
   "source": [
    "from sklearn.metrics import confusion_matrix, ConfusionMatrixDisplay\n",
    "\n",
    "confusion_matrix(y_test, y_test_pred)"
   ]
  },
  {
   "cell_type": "code",
   "execution_count": 35,
   "id": "7d8497f2-5d39-447d-8e8c-16e27e33f867",
   "metadata": {},
   "outputs": [
    {
     "data": {
      "image/png": "[encoded data removed]",
      "text/plain": [
       "<Figure size 640x480 with 2 Axes>"
      ]
     },
     "metadata": {},
     "output_type": "display_data"
    }
   ],
   "source": [
    "cm_test = confusion_matrix(y_test, y_test_pred)\n",
    "\n",
    "disp = ConfusionMatrixDisplay(cm_test,display_labels=classification.classes_)\n",
    "disp.plot()\n",
    "plt.show()"
   ]
  },
  {
   "cell_type": "markdown",
   "id": "cb3724c2-944f-4f6b-a69c-26cad01d6a8c",
   "metadata": {},
   "source": [
    "### Cohen-Kappa Score"
   ]
  },
  {
   "cell_type": "code",
   "execution_count": 36,
   "id": "4d77963c-8a91-4de8-b77f-c1c5620fc469",
   "metadata": {},
   "outputs": [
    {
     "data": {
      "text/plain": [
       "0.0"
      ]
     },
     "execution_count": 36,
     "metadata": {},
     "output_type": "execute_result"
    }
   ],
   "source": [
    "from sklearn.metrics import cohen_kappa_score\n",
    "\n",
    "cohen_kappa_score(y_test, y_test_pred)"
   ]
  },
  {
   "cell_type": "markdown",
   "id": "dd279660-d2b4-4fbf-b40a-8fd2b9d9882c",
   "metadata": {},
   "source": [
    "### Classification report"
   ]
  },
  {
   "cell_type": "code",
   "execution_count": 37,
   "id": "8ebeece9-eeb5-4bc8-830d-c565531b9ec5",
   "metadata": {},
   "outputs": [
    {
     "name": "stdout",
     "output_type": "stream",
     "text": [
      "              precision    recall  f1-score   support\n",
      "\n",
      "           0       1.00      0.00      0.00       100\n",
      "           1       0.67      1.00      0.80       200\n",
      "\n",
      "    accuracy                           0.67       300\n",
      "   macro avg       0.83      0.50      0.40       300\n",
      "weighted avg       0.78      0.67      0.53       300\n",
      "\n"
     ]
    }
   ],
   "source": [
    "from sklearn.metrics import classification_report\n",
    "\n",
    "print(classification_report(y_test, y_test_pred, zero_division = 1))"
   ]
  },
  {
   "cell_type": "code",
   "execution_count": 38,
   "id": "035912b1-47b5-4a34-b4ab-87cdaeb4d8f9",
   "metadata": {},
   "outputs": [],
   "source": [
    "# Precission = TP/(TP+FP), Recall = TP/(TP+FN)"
   ]
  }
 ],
 "metadata": {
  "kernelspec": {
   "display_name": "venv",
   "language": "python",
   "name": "venv"
  },
  "language_info": {
   "codemirror_mode": {
    "name": "ipython",
    "version": 3
   },
   "file_extension": ".py",
   "mimetype": "text/x-python",
   "name": "python",
   "nbconvert_exporter": "python",
   "pygments_lexer": "ipython3",
   "version": "3.11.4"
  }
 },
 "nbformat": 4,
 "nbformat_minor": 5
}
